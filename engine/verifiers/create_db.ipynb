{
 "cells": [
  {
   "cell_type": "code",
   "execution_count": null,
   "id": "befac554",
   "metadata": {},
   "outputs": [],
   "source": [
    "import os\n",
    "import json\n",
    "##Put all your tables as csv into a 'datasets' folder first\n",
    "basepath='./datasets/'\n",
    "list_files=os.listdir(basepath)\n",
    "list_files=[basepath+x for x in list_files if '.csv' in x]\n"
   ]
  },
  {
   "cell_type": "code",
   "execution_count": null,
   "id": "3f711af5",
   "metadata": {},
   "outputs": [],
   "source": [
    "whole_obj=[]\n",
    "for i in range(len(list_files)):\n",
    "    name=list_files[i].split('/')[2][:-4]\n",
    "    obj=dict()\n",
    "    obj['order']=['table_0']\n",
    "    obj['title']=name.replace('_',' ')\n",
    "    \n",
    "    f=open(list_files[i])\n",
    "    table_0=[]\n",
    "    for line in enumerate(f) :\n",
    "\n",
    "        if not len(line[1].split(','))==1:\n",
    "            table_0_row=[]\n",
    "            for col in enumerate(line[1].split(',')):\n",
    "                table_0_row+=[{'id':('header_cell_0_0_'+str(col[0]) if line[0]==0 else 'cell_0_'+str(line[0])+'_'+str(col[0])),'value':col[1].replace('\"','').replace('\\n',''),'is_header':(True if line[0]==0 else False),'column_span':'1','row_span':'1'}]\n",
    "            table_0+=[table_0_row]\n",
    "        else:\n",
    "            table_0_row=[]\n",
    "            for col in enumerate(line[1].split(';')):\n",
    "                table_0_row+=[{'id':('header_cell_0_0_'+str(col[0]) if line[0]==0 else 'cell_0_'+str(line[0])+'_'+str(col[0])),'value':col[1].replace('\"','').replace('\\n',''),'is_header':(True if line[0]==0 else False),'column_span':'1','row_span':'1'}]\n",
    "            table_0+=[table_0_row]\n",
    "        \n",
    "    obj['table_0']={'table':table_0, 'type':'infobox'}\n",
    "    whole_obj+=[obj]"
   ]
  },
  {
   "cell_type": "code",
   "execution_count": null,
   "id": "c15c008f",
   "metadata": {},
   "outputs": [],
   "source": [
    "f=open('readyfordb/readyfordb.jsonl','w')\n",
    "for elt in whole_obj:\n",
    "    f.write(json.dumps(elt)+'\\n')\n",
    "f.close()"
   ]
  }
 ],
 "metadata": {
  "kernelspec": {
   "display_name": "base",
   "language": "python",
   "name": "python3"
  },
  "language_info": {
   "codemirror_mode": {
    "name": "ipython",
    "version": 3
   },
   "file_extension": ".py",
   "mimetype": "text/x-python",
   "name": "python",
   "nbconvert_exporter": "python",
   "pygments_lexer": "ipython3",
   "version": "3.8.5"
  }
 },
 "nbformat": 4,
 "nbformat_minor": 5
}
